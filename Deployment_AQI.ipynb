{
  "nbformat": 4,
  "nbformat_minor": 0,
  "metadata": {
    "colab": {
      "name": "Deployment AQI.ipynb",
      "provenance": [],
      "authorship_tag": "ABX9TyPDJ/D91Z+8B2d2KyYFJkSu",
      "include_colab_link": true
    },
    "kernelspec": {
      "name": "python3",
      "display_name": "Python 3"
    }
  },
  "cells": [
    {
      "cell_type": "markdown",
      "metadata": {
        "id": "view-in-github",
        "colab_type": "text"
      },
      "source": [
        "<a href=\"https://colab.research.google.com/github/NigamaVeena/AQI-prediction-and-deployment/blob/main/Deployment_AQI.ipynb\" target=\"_parent\"><img src=\"https://colab.research.google.com/assets/colab-badge.svg\" alt=\"Open In Colab\"/></a>"
      ]
    },
    {
      "cell_type": "code",
      "metadata": {
        "colab": {
          "base_uri": "https://localhost:8080/"
        },
        "id": "D9mxwGiBm0HU",
        "outputId": "5d097b4b-0553-4963-f832-9b98e5c9aef7"
      },
      "source": [
        "!pip install -q streamlit"
      ],
      "execution_count": 1,
      "outputs": [
        {
          "output_type": "stream",
          "text": [
            "\u001b[K     |████████████████████████████████| 7.5MB 8.3MB/s \n",
            "\u001b[K     |████████████████████████████████| 163kB 38.3MB/s \n",
            "\u001b[K     |████████████████████████████████| 81kB 9.5MB/s \n",
            "\u001b[K     |████████████████████████████████| 4.6MB 38.1MB/s \n",
            "\u001b[K     |████████████████████████████████| 112kB 39.0MB/s \n",
            "\u001b[K     |████████████████████████████████| 71kB 8.3MB/s \n",
            "\u001b[K     |████████████████████████████████| 122kB 51.6MB/s \n",
            "\u001b[?25h  Building wheel for blinker (setup.py) ... \u001b[?25l\u001b[?25hdone\n",
            "\u001b[31mERROR: google-colab 1.0.0 has requirement ipykernel~=4.10, but you'll have ipykernel 5.5.0 which is incompatible.\u001b[0m\n"
          ],
          "name": "stdout"
        }
      ]
    },
    {
      "cell_type": "code",
      "metadata": {
        "colab": {
          "base_uri": "https://localhost:8080/"
        },
        "id": "UOJNdPCnm99U",
        "outputId": "b1de1b6f-07c0-4cc4-92e6-185e181fd32a"
      },
      "source": [
        "import pandas as pd\r\n",
        "import numpy as np\r\n",
        "combine_data= pd.read_csv(r'/content/Real_Combine.csv')\r\n",
        "import matplotlib.pyplot as plt\r\n",
        "from sklearn.ensemble import RandomForestRegressor\r\n",
        "from sklearn.model_selection import train_test_split\r\n",
        "from sklearn.metrics import mean_squared_error as mse\r\n",
        "from mlxtend.feature_selection import SequentialFeatureSelector as sfs\r\n",
        "X_train, X_test, y_train, y_test = train_test_split(\r\n",
        "    combine_data.iloc[:,:-1],\r\n",
        "    combine_data.iloc[:,-1],\r\n",
        "    test_size=0.3,\r\n",
        "    random_state=0)"
      ],
      "execution_count": 2,
      "outputs": [
        {
          "output_type": "stream",
          "text": [
            "/usr/local/lib/python3.7/dist-packages/sklearn/externals/joblib/__init__.py:15: FutureWarning: sklearn.externals.joblib is deprecated in 0.21 and will be removed in 0.23. Please import this functionality directly from joblib, which can be installed with: pip install joblib. If this warning is raised when loading pickled models, you may need to re-serialize those models with scikit-learn 0.21+.\n",
            "  warnings.warn(msg, category=FutureWarning)\n"
          ],
          "name": "stderr"
        }
      ]
    },
    {
      "cell_type": "code",
      "metadata": {
        "colab": {
          "base_uri": "https://localhost:8080/"
        },
        "id": "tUvw2ehOnfRQ",
        "outputId": "8361a943-bdcb-48f3-96e8-15a4bd8c2c06"
      },
      "source": [
        "y_train.isnull().any()"
      ],
      "execution_count": 3,
      "outputs": [
        {
          "output_type": "execute_result",
          "data": {
            "text/plain": [
              "True"
            ]
          },
          "metadata": {
            "tags": []
          },
          "execution_count": 3
        }
      ]
    },
    {
      "cell_type": "code",
      "metadata": {
        "id": "l9gmogmsniOm"
      },
      "source": [
        "y_train=y_train.fillna(method='ffill')"
      ],
      "execution_count": 4,
      "outputs": []
    },
    {
      "cell_type": "code",
      "metadata": {
        "colab": {
          "base_uri": "https://localhost:8080/"
        },
        "id": "Mfw_Bqc-nmjC",
        "outputId": "6d5ff7b8-f562-4f0d-dfa2-a690a3cafc6c"
      },
      "source": [
        "\r\n",
        "y_train.isnull().any()"
      ],
      "execution_count": 5,
      "outputs": [
        {
          "output_type": "execute_result",
          "data": {
            "text/plain": [
              "False"
            ]
          },
          "metadata": {
            "tags": []
          },
          "execution_count": 5
        }
      ]
    },
    {
      "cell_type": "code",
      "metadata": {
        "colab": {
          "base_uri": "https://localhost:8080/",
          "height": 548
        },
        "id": "ZAEzSm1mnrAu",
        "outputId": "ce3e3550-1032-4f44-ad8f-a38c637fde45"
      },
      "source": [
        "from sklearn.ensemble import RandomForestRegressor\r\n",
        "# Hyperparameter tuning with RandomizedSearchCV\r\n",
        "from sklearn.model_selection import RandomizedSearchCV\r\n",
        "# Hyparameter ranges\r\n",
        "from scipy.stats import randint\r\n",
        "parameters = {'n_estimators': randint(100,1200),\r\n",
        "               'max_features': ['auto','sqrt'],\r\n",
        "               'max_depth': randint(5,40),\r\n",
        "               'min_samples_split': randint(2,30),\r\n",
        "               'min_samples_leaf': randint(1,10)  }\r\n",
        "# Model for tuning\r\n",
        "base_learner=RandomForestRegressor()\r\n",
        "# Tuning\r\n",
        "tuned_model= RandomizedSearchCV(estimator = base_learner, param_distributions = parameters,scoring='neg_mean_squared_error', n_iter = 100, cv = 5, verbose=2, random_state=42, n_jobs =-1)\r\n",
        "tuned_model.fit(X_train,y_train)\r\n",
        "tuned_model.best_params_\r\n",
        "{'max_depth': 5,\r\n",
        " 'max_features': 'sqrt',\r\n",
        " 'min_samples_leaf': 1,\r\n",
        " 'min_samples_split': 16,\r\n",
        " 'n_estimators': 901}\r\n",
        "tuned_model.best_score_\r\n",
        "#-3425.3665578465598\r\n",
        "# Predicting X_test values using tuned_model\r\n",
        "prediction=tuned_model.predict(X_test)\r\n",
        "plt.scatter(y_test,prediction)\r\n",
        "print('MSE:', metrics.mean_squared_error(y_test, prediction))"
      ],
      "execution_count": 6,
      "outputs": [
        {
          "output_type": "stream",
          "text": [
            "Fitting 5 folds for each of 100 candidates, totalling 500 fits\n"
          ],
          "name": "stdout"
        },
        {
          "output_type": "stream",
          "text": [
            "[Parallel(n_jobs=-1)]: Using backend LokyBackend with 2 concurrent workers.\n",
            "[Parallel(n_jobs=-1)]: Done  37 tasks      | elapsed:   40.1s\n",
            "[Parallel(n_jobs=-1)]: Done 158 tasks      | elapsed:  2.8min\n",
            "[Parallel(n_jobs=-1)]: Done 361 tasks      | elapsed:  5.8min\n",
            "[Parallel(n_jobs=-1)]: Done 500 out of 500 | elapsed:  8.5min finished\n"
          ],
          "name": "stderr"
        },
        {
          "output_type": "error",
          "ename": "NameError",
          "evalue": "ignored",
          "traceback": [
            "\u001b[0;31m---------------------------------------------------------------------------\u001b[0m",
            "\u001b[0;31mNameError\u001b[0m                                 Traceback (most recent call last)",
            "\u001b[0;32m<ipython-input-6-654f51c3e2e8>\u001b[0m in \u001b[0;36m<module>\u001b[0;34m()\u001b[0m\n\u001b[1;32m     25\u001b[0m \u001b[0mprediction\u001b[0m\u001b[0;34m=\u001b[0m\u001b[0mtuned_model\u001b[0m\u001b[0;34m.\u001b[0m\u001b[0mpredict\u001b[0m\u001b[0;34m(\u001b[0m\u001b[0mX_test\u001b[0m\u001b[0;34m)\u001b[0m\u001b[0;34m\u001b[0m\u001b[0;34m\u001b[0m\u001b[0m\n\u001b[1;32m     26\u001b[0m \u001b[0mplt\u001b[0m\u001b[0;34m.\u001b[0m\u001b[0mscatter\u001b[0m\u001b[0;34m(\u001b[0m\u001b[0my_test\u001b[0m\u001b[0;34m,\u001b[0m\u001b[0mprediction\u001b[0m\u001b[0;34m)\u001b[0m\u001b[0;34m\u001b[0m\u001b[0;34m\u001b[0m\u001b[0m\n\u001b[0;32m---> 27\u001b[0;31m \u001b[0mprint\u001b[0m\u001b[0;34m(\u001b[0m\u001b[0;34m'MSE:'\u001b[0m\u001b[0;34m,\u001b[0m \u001b[0mmetrics\u001b[0m\u001b[0;34m.\u001b[0m\u001b[0mmean_squared_error\u001b[0m\u001b[0;34m(\u001b[0m\u001b[0my_test\u001b[0m\u001b[0;34m,\u001b[0m \u001b[0mprediction\u001b[0m\u001b[0;34m)\u001b[0m\u001b[0;34m)\u001b[0m\u001b[0;34m\u001b[0m\u001b[0;34m\u001b[0m\u001b[0m\n\u001b[0m",
            "\u001b[0;31mNameError\u001b[0m: name 'metrics' is not defined"
          ]
        },
        {
          "output_type": "display_data",
          "data": {
            "image/png": "[encoded data removed]",
            "text/plain": [
              "<Figure size 432x288 with 1 Axes>"
            ]
          },
          "metadata": {
            "tags": [],
            "needs_background": "light"
          }
        }
      ]
    },
    {
      "cell_type": "code",
      "metadata": {
        "colab": {
          "base_uri": "https://localhost:8080/"
        },
        "id": "-zVufVHYn0Ch",
        "outputId": "3e8b4b54-683d-4dde-cc5a-b26259c690c3"
      },
      "source": [
        "from sklearn import metrics\r\n",
        "print('MAE:', metrics.mean_absolute_error(y_test, prediction))\r\n",
        "print('MSE:', metrics.mean_squared_error(y_test, prediction))\r\n",
        "print('RMSE:', np.sqrt(metrics.mean_squared_error(y_test, prediction)))"
      ],
      "execution_count": 7,
      "outputs": [
        {
          "output_type": "stream",
          "text": [
            "MAE: 43.53093323404908\n",
            "MSE: 3287.2939380819116\n",
            "RMSE: 57.334927732420766\n"
          ],
          "name": "stdout"
        }
      ]
    },
    {
      "cell_type": "code",
      "metadata": {
        "id": "yD4cCJBroJTx"
      },
      "source": [
        "import pickle\r\n",
        "pickle_out = open(\"Random_forest_regressornew.pkl\",\"wb\")\r\n",
        "pickle.dump(tuned_model, pickle_out)\r\n",
        "pickle_out.close()"
      ],
      "execution_count": 10,
      "outputs": []
    },
    {
      "cell_type": "code",
      "metadata": {
        "id": "h2kzLJNCwGRB"
      },
      "source": [
        ""
      ],
      "execution_count": null,
      "outputs": []
    },
    {
      "cell_type": "code",
      "metadata": {
        "colab": {
          "base_uri": "https://localhost:8080/"
        },
        "id": "IEzRgRJxvjbx",
        "outputId": "d0d4a234-cc83-4c28-a483-c45e3037e3d4"
      },
      "source": [
        "%%writefile appnew.py\r\n",
        "import numpy as np\r\n",
        "import pandas as pd\r\n",
        "import pickle\r\n",
        "import streamlit as st\r\n",
        "\r\n",
        "\r\n",
        "\r\n",
        "pickle_in = open(\"Random_forest_regressornew.pkl\",\"rb\")\r\n",
        "random_forest_regressor=pickle.load(pickle_in)\r\n",
        "\r\n",
        "\r\n",
        "def welcome():\r\n",
        "    return \" welcome all\"\r\n",
        "\r\n",
        "\r\n",
        "\r\n",
        "def predict_AQI(T,TM,Tm,SLP,H,VV,V,Vm):\r\n",
        "    \r\n",
        "    \r\n",
        "    prediction=random_forest_regressor.predict([[ T,TM,Tm,SLP,H,VV,V,Vm]])\r\n",
        "    print(prediction)\r\n",
        "    return prediction\r\n",
        "\r\n",
        "\r\n",
        "def main():\r\n",
        "    st.title(\"Hyderabad AQI prediction\")\r\n",
        "    html_temp = \"\"\"\r\n",
        "    <div style=\"background-color:green;padding:20px\">\r\n",
        "    <h2 style=\"color:white;text-align:center;\">AQI prediction ML App </h2>\r\n",
        "    </div>\r\n",
        "    \"\"\"\r\n",
        "    st.markdown(html_temp,unsafe_allow_html=True)\r\n",
        "    T = st.text_input(\"Average_Temperature \",\"Type Here\")\r\n",
        "    TM = st.text_input(\"Maximum_Temperature \",\"Type Here\")\r\n",
        "    Tm = st.text_input(\"Minimum_Temperature \",\"Type Here\")\r\n",
        "    SLP = st.text_input(\"Atm_pressure_at_sea_level \",\"Type Here\")\r\n",
        "    H = st.text_input(\"Average_relative_Humidity \",\"Type Here\")\r\n",
        "    VV = st.text_input(\"Average_visibility \",\"Type Here\")\r\n",
        "    V = st.text_input(\"Average_wind_speed \",\"Type Here\")\r\n",
        "    Vm = st.text_input(\"Maximum sustained wind speed \",\"Type Here\")\r\n",
        "    result=\"\"\r\n",
        "    if st.button(\"Predict\"):\r\n",
        "        result=predict_AQI(T,TM,Tm,SLP,H,VV,V,Vm)\r\n",
        "    st.success('The output is {}'.format(result))\r\n",
        "    if st.button(\"About\"):\r\n",
        "        st.text(\"project by VEENA SAI NIGAMA\")\r\n",
        "        st.text(\" 2021 \")\r\n",
        "\r\n",
        "if __name__=='__main__':\r\n",
        "    main()"
      ],
      "execution_count": 1,
      "outputs": [
        {
          "output_type": "stream",
          "text": [
            "Writing appnew.py\n"
          ],
          "name": "stdout"
        }
      ]
    },
    {
      "cell_type": "code",
      "metadata": {
        "colab": {
          "base_uri": "https://localhost:8080/"
        },
        "id": "NAa7sataqqXP",
        "outputId": "69ea1e54-0bec-4601-b9be-b67829289140"
      },
      "source": [
        "!wget https://github.com/NigamaVeena/AQI-prediction-and-deployment/blob/main/appnew.py"
      ],
      "execution_count": 2,
      "outputs": [
        {
          "output_type": "stream",
          "text": [
            "--2021-03-17 10:37:43--  https://github.com/NigamaVeena/AQI-prediction-and-deployment/blob/main/appnew.py\n",
            "Resolving github.com (github.com)... 192.30.255.112\n",
            "Connecting to github.com (github.com)|192.30.255.112|:443... connected.\n",
            "HTTP request sent, awaiting response... 200 OK\n",
            "Length: unspecified [text/html]\n",
            "Saving to: ‘appnew.py.1’\n",
            "\n",
            "appnew.py.1             [ <=>                ] 122.69K  --.-KB/s    in 0.02s   \n",
            "\n",
            "2021-03-17 10:37:43 (5.46 MB/s) - ‘appnew.py.1’ saved [125633]\n",
            "\n"
          ],
          "name": "stdout"
        }
      ]
    },
    {
      "cell_type": "code",
      "metadata": {
        "colab": {
          "base_uri": "https://localhost:8080/"
        },
        "id": "n0pzD44Nqp6S",
        "outputId": "6f40f429-fde7-4b41-9470-b91221073c61"
      },
      "source": [
        "!wget https://bin.equinox.io/c/4VmDzA7iaHb/ngrok-stable-linux-amd64.zip"
      ],
      "execution_count": 11,
      "outputs": [
        {
          "output_type": "stream",
          "text": [
            "--2021-03-17 10:49:31--  https://bin.equinox.io/c/4VmDzA7iaHb/ngrok-stable-linux-amd64.zip\n",
            "Resolving bin.equinox.io (bin.equinox.io)... 3.88.74.186, 34.234.81.220, 34.198.117.197, ...\n",
            "Connecting to bin.equinox.io (bin.equinox.io)|3.88.74.186|:443... connected.\n",
            "HTTP request sent, awaiting response... 200 OK\n",
            "Length: 13773305 (13M) [application/octet-stream]\n",
            "Saving to: ‘ngrok-stable-linux-amd64.zip’\n",
            "\n",
            "ngrok-stable-linux- 100%[===================>]  13.13M  18.6MB/s    in 0.7s    \n",
            "\n",
            "2021-03-17 10:49:32 (18.6 MB/s) - ‘ngrok-stable-linux-amd64.zip’ saved [13773305/13773305]\n",
            "\n"
          ],
          "name": "stdout"
        }
      ]
    },
    {
      "cell_type": "code",
      "metadata": {
        "colab": {
          "base_uri": "https://localhost:8080/"
        },
        "id": "oD7pJJuhq1nt",
        "outputId": "a89a5c4e-4f9e-4195-ab5b-56b5d3e07e8a"
      },
      "source": [
        "!unzip ngrok-stable-linux-amd64.zip"
      ],
      "execution_count": 12,
      "outputs": [
        {
          "output_type": "stream",
          "text": [
            "Archive:  ngrok-stable-linux-amd64.zip\n",
            "  inflating: ngrok                   \n"
          ],
          "name": "stdout"
        }
      ]
    },
    {
      "cell_type": "code",
      "metadata": {
        "id": "NMVJsOfDq5Zn"
      },
      "source": [
        "get_ipython().system_raw('./ngrok http 8501 &')"
      ],
      "execution_count": 13,
      "outputs": []
    },
    {
      "cell_type": "code",
      "metadata": {
        "colab": {
          "base_uri": "https://localhost:8080/"
        },
        "id": "g4N0ZwZnrB05",
        "outputId": "6fdc47e3-08da-4101-c44a-c73865ec3bbb"
      },
      "source": [
        "!curl -s http://localhost:4040/api/tunnels | python3 -c \\\r\n",
        "    'import sys, json; print(\"Execute the next cell and the go to the following URL: \" +json.load(sys.stdin)[\"tunnels\"][0][\"public_url\"])'"
      ],
      "execution_count": 14,
      "outputs": [
        {
          "output_type": "stream",
          "text": [
            "Execute the next cell and the go to the following URL: https://13afb8def9d5.ngrok.io\n"
          ],
          "name": "stdout"
        }
      ]
    },
    {
      "cell_type": "code",
      "metadata": {
        "colab": {
          "base_uri": "https://localhost:8080/"
        },
        "id": "gG6dbGzZrHJh",
        "outputId": "2b059e20-de13-4ff3-9a82-c0ca6b24816d"
      },
      "source": [
        "!streamlit run /content/appnew.py"
      ],
      "execution_count": null,
      "outputs": [
        {
          "output_type": "stream",
          "text": [
            "\u001b[0m\n",
            "\u001b[34m\u001b[1m  You can now view your Streamlit app in your browser.\u001b[0m\n",
            "\u001b[0m\n",
            "\u001b[34m  Network URL: \u001b[0m\u001b[1mhttp://172.28.0.2:8501\u001b[0m\n",
            "\u001b[34m  External URL: \u001b[0m\u001b[1mhttp://34.83.79.141:8501\u001b[0m\n",
            "\u001b[0m\n",
            "[151.32878883]\n",
            "[151.32878883]\n"
          ],
          "name": "stdout"
        }
      ]
    },
    {
      "cell_type": "code",
      "metadata": {
        "id": "trLlZKhCrKuw"
      },
      "source": [
        ""
      ],
      "execution_count": null,
      "outputs": []
    }
  ]
}