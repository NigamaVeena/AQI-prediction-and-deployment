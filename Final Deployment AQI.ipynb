{
  "nbformat": 4,
  "nbformat_minor": 0,
  "metadata": {
    "colab": {
      "name": "Untitled22.ipynb",
      "provenance": [],
      "authorship_tag": "ABX9TyNr5HMMJsA+T5GCbyDiu4jY",
      "include_colab_link": true
    },
    "kernelspec": {
      "name": "python3",
      "display_name": "Python 3"
    },
    "language_info": {
      "name": "python"
    }
  },
  "cells": [
    {
      "cell_type": "markdown",
      "metadata": {
        "id": "view-in-github",
        "colab_type": "text"
      },
      "source": [
        "<a href=\"https://colab.research.google.com/github/NigamaVeena/AQI-prediction-and-deployment/blob/main/Final%20Deployment%20AQI.ipynb\" target=\"_parent\"><img src=\"https://colab.research.google.com/assets/colab-badge.svg\" alt=\"Open In Colab\"/></a>"
      ]
    },
    {
      "cell_type": "code",
      "metadata": {
        "colab": {
          "base_uri": "https://localhost:8080/",
          "height": 1000
        },
        "id": "eFBbAR322UDm",
        "outputId": "de410c43-8ad1-4df7-92f3-3ddba5b23dd7"
      },
      "source": [
        "pip install streamlit"
      ],
      "execution_count": 2,
      "outputs": [
        {
          "output_type": "stream",
          "text": [
            "Collecting streamlit\n",
            "\u001b[?25l  Downloading https://files.pythonhosted.org/packages/d9/99/a8913c21bd07a14f72658a01784414ffecb380ddd0f9a127257314fea697/streamlit-0.80.0-py2.py3-none-any.whl (8.2MB)\n",
            "\u001b[K     |████████████████████████████████| 8.2MB 8.6MB/s \n",
            "\u001b[?25hCollecting gitpython\n",
            "\u001b[?25l  Downloading https://files.pythonhosted.org/packages/a6/99/98019716955ba243657daedd1de8f3a88ca1f5b75057c38e959db22fb87b/GitPython-3.1.14-py3-none-any.whl (159kB)\n",
            "\u001b[K     |████████████████████████████████| 163kB 37.4MB/s \n",
            "\u001b[?25hRequirement already satisfied: altair>=3.2.0 in /usr/local/lib/python3.7/dist-packages (from streamlit) (4.1.0)\n",
            "Collecting watchdog; platform_system != \"Darwin\"\n",
            "\u001b[?25l  Downloading https://files.pythonhosted.org/packages/d2/b2/b4ebe23174fd00ec94ac3f58ebf85f1090c49858feab1ca62ed7ea4d2f2f/watchdog-2.0.3-py3-none-manylinux2014_x86_64.whl (74kB)\n",
            "\u001b[K     |████████████████████████████████| 81kB 8.9MB/s \n",
            "\u001b[?25hRequirement already satisfied: astor in /usr/local/lib/python3.7/dist-packages (from streamlit) (0.8.1)\n",
            "Requirement already satisfied: requests in /usr/local/lib/python3.7/dist-packages (from streamlit) (2.23.0)\n",
            "Requirement already satisfied: python-dateutil in /usr/local/lib/python3.7/dist-packages (from streamlit) (2.8.1)\n",
            "Requirement already satisfied: pandas>=0.21.0 in /usr/local/lib/python3.7/dist-packages (from streamlit) (1.1.5)\n",
            "Requirement already satisfied: cachetools>=4.0 in /usr/local/lib/python3.7/dist-packages (from streamlit) (4.2.1)\n",
            "Requirement already satisfied: tornado>=5.0 in /usr/local/lib/python3.7/dist-packages (from streamlit) (5.1.1)\n",
            "Requirement already satisfied: numpy in /usr/local/lib/python3.7/dist-packages (from streamlit) (1.19.5)\n",
            "Requirement already satisfied: protobuf!=3.11,>=3.6.0 in /usr/local/lib/python3.7/dist-packages (from streamlit) (3.12.4)\n",
            "Requirement already satisfied: toml in /usr/local/lib/python3.7/dist-packages (from streamlit) (0.10.2)\n",
            "Requirement already satisfied: click>=7.0 in /usr/local/lib/python3.7/dist-packages (from streamlit) (7.1.2)\n",
            "Requirement already satisfied: packaging in /usr/local/lib/python3.7/dist-packages (from streamlit) (20.9)\n",
            "Requirement already satisfied: pillow>=6.2.0 in /usr/local/lib/python3.7/dist-packages (from streamlit) (7.1.2)\n",
            "Collecting pydeck>=0.1.dev5\n",
            "\u001b[?25l  Downloading https://files.pythonhosted.org/packages/d6/bc/f0e44828e4290367c869591d50d3671a4d0ee94926da6cb734b7b200308c/pydeck-0.6.2-py2.py3-none-any.whl (4.2MB)\n",
            "\u001b[K     |████████████████████████████████| 4.2MB 39.0MB/s \n",
            "\u001b[?25hRequirement already satisfied: pyarrow; python_version < \"3.9\" in /usr/local/lib/python3.7/dist-packages (from streamlit) (3.0.0)\n",
            "Collecting base58\n",
            "  Downloading https://files.pythonhosted.org/packages/b8/a1/d9f565e9910c09fd325dc638765e8843a19fa696275c16cc08cf3b0a3c25/base58-2.1.0-py3-none-any.whl\n",
            "Collecting validators\n",
            "  Downloading https://files.pythonhosted.org/packages/db/2f/7fed3ee94ad665ad2c1de87f858f10a7785251ff75b4fd47987888d07ef1/validators-0.18.2-py3-none-any.whl\n",
            "Collecting blinker\n",
            "\u001b[?25l  Downloading https://files.pythonhosted.org/packages/1b/51/e2a9f3b757eb802f61dc1f2b09c8c99f6eb01cf06416c0671253536517b6/blinker-1.4.tar.gz (111kB)\n",
            "\u001b[K     |████████████████████████████████| 112kB 62.1MB/s \n",
            "\u001b[?25hRequirement already satisfied: tzlocal in /usr/local/lib/python3.7/dist-packages (from streamlit) (1.5.1)\n",
            "Collecting gitdb<5,>=4.0.1\n",
            "\u001b[?25l  Downloading https://files.pythonhosted.org/packages/ea/e8/f414d1a4f0bbc668ed441f74f44c116d9816833a48bf81d22b697090dba8/gitdb-4.0.7-py3-none-any.whl (63kB)\n",
            "\u001b[K     |████████████████████████████████| 71kB 9.5MB/s \n",
            "\u001b[?25hRequirement already satisfied: jsonschema in /usr/local/lib/python3.7/dist-packages (from altair>=3.2.0->streamlit) (2.6.0)\n",
            "Requirement already satisfied: entrypoints in /usr/local/lib/python3.7/dist-packages (from altair>=3.2.0->streamlit) (0.3)\n",
            "Requirement already satisfied: jinja2 in /usr/local/lib/python3.7/dist-packages (from altair>=3.2.0->streamlit) (2.11.3)\n",
            "Requirement already satisfied: toolz in /usr/local/lib/python3.7/dist-packages (from altair>=3.2.0->streamlit) (0.11.1)\n",
            "Requirement already satisfied: idna<3,>=2.5 in /usr/local/lib/python3.7/dist-packages (from requests->streamlit) (2.10)\n",
            "Requirement already satisfied: urllib3!=1.25.0,!=1.25.1,<1.26,>=1.21.1 in /usr/local/lib/python3.7/dist-packages (from requests->streamlit) (1.24.3)\n",
            "Requirement already satisfied: chardet<4,>=3.0.2 in /usr/local/lib/python3.7/dist-packages (from requests->streamlit) (3.0.4)\n",
            "Requirement already satisfied: certifi>=2017.4.17 in /usr/local/lib/python3.7/dist-packages (from requests->streamlit) (2020.12.5)\n",
            "Requirement already satisfied: six>=1.5 in /usr/local/lib/python3.7/dist-packages (from python-dateutil->streamlit) (1.15.0)\n",
            "Requirement already satisfied: pytz>=2017.2 in /usr/local/lib/python3.7/dist-packages (from pandas>=0.21.0->streamlit) (2018.9)\n",
            "Requirement already satisfied: setuptools in /usr/local/lib/python3.7/dist-packages (from protobuf!=3.11,>=3.6.0->streamlit) (56.0.0)\n",
            "Requirement already satisfied: pyparsing>=2.0.2 in /usr/local/lib/python3.7/dist-packages (from packaging->streamlit) (2.4.7)\n",
            "Requirement already satisfied: ipywidgets>=7.0.0 in /usr/local/lib/python3.7/dist-packages (from pydeck>=0.1.dev5->streamlit) (7.6.3)\n",
            "Requirement already satisfied: traitlets>=4.3.2 in /usr/local/lib/python3.7/dist-packages (from pydeck>=0.1.dev5->streamlit) (5.0.5)\n",
            "Collecting ipykernel>=5.1.2; python_version >= \"3.4\"\n",
            "\u001b[?25l  Downloading https://files.pythonhosted.org/packages/3a/7d/9f8ac1b1b76f2f1538b5650f0b5636bae082724b1e06939a3a9d38e1380e/ipykernel-5.5.3-py3-none-any.whl (120kB)\n",
            "\u001b[K     |████████████████████████████████| 122kB 55.8MB/s \n",
            "\u001b[?25hRequirement already satisfied: decorator>=3.4.0 in /usr/local/lib/python3.7/dist-packages (from validators->streamlit) (4.4.2)\n",
            "Collecting smmap<5,>=3.0.1\n",
            "  Downloading https://files.pythonhosted.org/packages/68/ee/d540eb5e5996eb81c26ceffac6ee49041d473bc5125f2aa995cf51ec1cf1/smmap-4.0.0-py2.py3-none-any.whl\n",
            "Requirement already satisfied: MarkupSafe>=0.23 in /usr/local/lib/python3.7/dist-packages (from jinja2->altair>=3.2.0->streamlit) (1.1.1)\n",
            "Requirement already satisfied: ipython>=4.0.0; python_version >= \"3.3\" in /usr/local/lib/python3.7/dist-packages (from ipywidgets>=7.0.0->pydeck>=0.1.dev5->streamlit) (5.5.0)\n",
            "Requirement already satisfied: jupyterlab-widgets>=1.0.0; python_version >= \"3.6\" in /usr/local/lib/python3.7/dist-packages (from ipywidgets>=7.0.0->pydeck>=0.1.dev5->streamlit) (1.0.0)\n",
            "Requirement already satisfied: nbformat>=4.2.0 in /usr/local/lib/python3.7/dist-packages (from ipywidgets>=7.0.0->pydeck>=0.1.dev5->streamlit) (5.1.3)\n",
            "Requirement already satisfied: widgetsnbextension~=3.5.0 in /usr/local/lib/python3.7/dist-packages (from ipywidgets>=7.0.0->pydeck>=0.1.dev5->streamlit) (3.5.1)\n",
            "Requirement already satisfied: ipython-genutils in /usr/local/lib/python3.7/dist-packages (from traitlets>=4.3.2->pydeck>=0.1.dev5->streamlit) (0.2.0)\n",
            "Requirement already satisfied: jupyter-client in /usr/local/lib/python3.7/dist-packages (from ipykernel>=5.1.2; python_version >= \"3.4\"->pydeck>=0.1.dev5->streamlit) (5.3.5)\n",
            "Requirement already satisfied: prompt-toolkit<2.0.0,>=1.0.4 in /usr/local/lib/python3.7/dist-packages (from ipython>=4.0.0; python_version >= \"3.3\"->ipywidgets>=7.0.0->pydeck>=0.1.dev5->streamlit) (1.0.18)\n",
            "Requirement already satisfied: simplegeneric>0.8 in /usr/local/lib/python3.7/dist-packages (from ipython>=4.0.0; python_version >= \"3.3\"->ipywidgets>=7.0.0->pydeck>=0.1.dev5->streamlit) (0.8.1)\n",
            "Requirement already satisfied: pickleshare in /usr/local/lib/python3.7/dist-packages (from ipython>=4.0.0; python_version >= \"3.3\"->ipywidgets>=7.0.0->pydeck>=0.1.dev5->streamlit) (0.7.5)\n",
            "Requirement already satisfied: pexpect; sys_platform != \"win32\" in /usr/local/lib/python3.7/dist-packages (from ipython>=4.0.0; python_version >= \"3.3\"->ipywidgets>=7.0.0->pydeck>=0.1.dev5->streamlit) (4.8.0)\n",
            "Requirement already satisfied: pygments in /usr/local/lib/python3.7/dist-packages (from ipython>=4.0.0; python_version >= \"3.3\"->ipywidgets>=7.0.0->pydeck>=0.1.dev5->streamlit) (2.6.1)\n",
            "Requirement already satisfied: jupyter-core in /usr/local/lib/python3.7/dist-packages (from nbformat>=4.2.0->ipywidgets>=7.0.0->pydeck>=0.1.dev5->streamlit) (4.7.1)\n",
            "Requirement already satisfied: notebook>=4.4.1 in /usr/local/lib/python3.7/dist-packages (from widgetsnbextension~=3.5.0->ipywidgets>=7.0.0->pydeck>=0.1.dev5->streamlit) (5.3.1)\n",
            "Requirement already satisfied: pyzmq>=13 in /usr/local/lib/python3.7/dist-packages (from jupyter-client->ipykernel>=5.1.2; python_version >= \"3.4\"->pydeck>=0.1.dev5->streamlit) (22.0.3)\n",
            "Requirement already satisfied: wcwidth in /usr/local/lib/python3.7/dist-packages (from prompt-toolkit<2.0.0,>=1.0.4->ipython>=4.0.0; python_version >= \"3.3\"->ipywidgets>=7.0.0->pydeck>=0.1.dev5->streamlit) (0.2.5)\n",
            "Requirement already satisfied: ptyprocess>=0.5 in /usr/local/lib/python3.7/dist-packages (from pexpect; sys_platform != \"win32\"->ipython>=4.0.0; python_version >= \"3.3\"->ipywidgets>=7.0.0->pydeck>=0.1.dev5->streamlit) (0.7.0)\n",
            "Requirement already satisfied: nbconvert in /usr/local/lib/python3.7/dist-packages (from notebook>=4.4.1->widgetsnbextension~=3.5.0->ipywidgets>=7.0.0->pydeck>=0.1.dev5->streamlit) (5.6.1)\n",
            "Requirement already satisfied: terminado>=0.8.1 in /usr/local/lib/python3.7/dist-packages (from notebook>=4.4.1->widgetsnbextension~=3.5.0->ipywidgets>=7.0.0->pydeck>=0.1.dev5->streamlit) (0.9.4)\n",
            "Requirement already satisfied: Send2Trash in /usr/local/lib/python3.7/dist-packages (from notebook>=4.4.1->widgetsnbextension~=3.5.0->ipywidgets>=7.0.0->pydeck>=0.1.dev5->streamlit) (1.5.0)\n",
            "Requirement already satisfied: mistune<2,>=0.8.1 in /usr/local/lib/python3.7/dist-packages (from nbconvert->notebook>=4.4.1->widgetsnbextension~=3.5.0->ipywidgets>=7.0.0->pydeck>=0.1.dev5->streamlit) (0.8.4)\n",
            "Requirement already satisfied: pandocfilters>=1.4.1 in /usr/local/lib/python3.7/dist-packages (from nbconvert->notebook>=4.4.1->widgetsnbextension~=3.5.0->ipywidgets>=7.0.0->pydeck>=0.1.dev5->streamlit) (1.4.3)\n",
            "Requirement already satisfied: testpath in /usr/local/lib/python3.7/dist-packages (from nbconvert->notebook>=4.4.1->widgetsnbextension~=3.5.0->ipywidgets>=7.0.0->pydeck>=0.1.dev5->streamlit) (0.4.4)\n",
            "Requirement already satisfied: defusedxml in /usr/local/lib/python3.7/dist-packages (from nbconvert->notebook>=4.4.1->widgetsnbextension~=3.5.0->ipywidgets>=7.0.0->pydeck>=0.1.dev5->streamlit) (0.7.1)\n",
            "Requirement already satisfied: bleach in /usr/local/lib/python3.7/dist-packages (from nbconvert->notebook>=4.4.1->widgetsnbextension~=3.5.0->ipywidgets>=7.0.0->pydeck>=0.1.dev5->streamlit) (3.3.0)\n",
            "Requirement already satisfied: webencodings in /usr/local/lib/python3.7/dist-packages (from bleach->nbconvert->notebook>=4.4.1->widgetsnbextension~=3.5.0->ipywidgets>=7.0.0->pydeck>=0.1.dev5->streamlit) (0.5.1)\n",
            "Building wheels for collected packages: blinker\n",
            "  Building wheel for blinker (setup.py) ... \u001b[?25l\u001b[?25hdone\n",
            "  Created wheel for blinker: filename=blinker-1.4-cp37-none-any.whl size=13448 sha256=11da98abcfdf6323fc9b29304bc6e3dffc12f7f0583ea4cbc715673ddae52098\n",
            "  Stored in directory: /root/.cache/pip/wheels/92/a0/00/8690a57883956a301d91cf4ec999cc0b258b01e3f548f86e89\n",
            "Successfully built blinker\n",
            "\u001b[31mERROR: google-colab 1.0.0 has requirement ipykernel~=4.10, but you'll have ipykernel 5.5.3 which is incompatible.\u001b[0m\n",
            "Installing collected packages: smmap, gitdb, gitpython, watchdog, ipykernel, pydeck, base58, validators, blinker, streamlit\n",
            "  Found existing installation: ipykernel 4.10.1\n",
            "    Uninstalling ipykernel-4.10.1:\n",
            "      Successfully uninstalled ipykernel-4.10.1\n",
            "Successfully installed base58-2.1.0 blinker-1.4 gitdb-4.0.7 gitpython-3.1.14 ipykernel-5.5.3 pydeck-0.6.2 smmap-4.0.0 streamlit-0.80.0 validators-0.18.2 watchdog-2.0.3\n"
          ],
          "name": "stdout"
        },
        {
          "output_type": "display_data",
          "data": {
            "application/vnd.colab-display-data+json": {
              "pip_warning": {
                "packages": [
                  "ipykernel"
                ]
              }
            }
          },
          "metadata": {
            "tags": []
          }
        }
      ]
    },
    {
      "cell_type": "code",
      "metadata": {
        "id": "xTXRlXaQ0mYL"
      },
      "source": [
        "import numpy as np\n",
        "import pandas as pd\n",
        "import pickle\n",
        "import streamlit as st"
      ],
      "execution_count": 1,
      "outputs": []
    },
    {
      "cell_type": "code",
      "metadata": {
        "id": "14SsfehfJswV"
      },
      "source": [
        "import base64\n",
        "import numpy as np\n",
        "import pandas as pd\n",
        "import pickle\n",
        "import streamlit as st\n",
        "\n",
        "\n",
        "def welcome():\n",
        "    return \" welcome all\"\n",
        "\n",
        "\n",
        "\n",
        "def predict_AQI(T,TM,Tm,SLP,H,VV,V,Vm,city):\n",
        "    \n",
        "    if city=='Banglore':\n",
        "      pickle_in = open(\"random_forest_regression_model_bngl.pkl\",\"rb\")\n",
        "      random_forest_regressor=pickle.load(pickle_in)\n",
        "      \n",
        "      prediction=random_forest_regressor.predict([[ T,TM,Tm,SLP,H,VV,V,Vm]])\n",
        "      print(prediction)\n",
        "      return prediction\n",
        "\n",
        "\n",
        "\n",
        "    \n",
        "    if city=='Chennai':\n",
        "      pickle_in = open(\"random_forest_regression_model_chennai.pkl\",\"rb\")\n",
        "      random_forest_regressor=pickle.load(pickle_in)\n",
        "      \n",
        "      prediction=random_forest_regressor.predict([[ T,TM,Tm,SLP,H,VV,V,Vm]])\n",
        "      print(prediction)\n",
        "      return prediction\n",
        "\n",
        "\n",
        "    \n",
        "    if city=='Goa':\n",
        "      pickle_in = open(\"random_forest_regression_model_Goa.pkl\",\"rb\")\n",
        "      random_forest_regressor=pickle.load(pickle_in)\n",
        "      \n",
        "      prediction=random_forest_regressor.predict([[ T,TM,Tm,SLP,H,VV,V,Vm]])\n",
        "      print(prediction)\n",
        "      return prediction\n",
        "\n",
        "\n",
        "     \n",
        "    if city=='Hyderabad':\n",
        "      pickle_in = open(\"random_forest_regression_model_hyd.pkl\",\"rb\")\n",
        "      random_forest_regressor=pickle.load(pickle_in)\n",
        "\n",
        "      prediction=random_forest_regressor.predict([[ T,TM,Tm,SLP,H,VV,V,Vm]])\n",
        "      print(prediction)\n",
        "      return prediction\n",
        "\n",
        "\n",
        "\n",
        "    if city=='Mumbai':\n",
        "      pickle_in = open(\"random_forest_regression_model_mumbai.pkl\",\"rb\")\n",
        "      random_forest_regressor=pickle.load(pickle_in)  \n",
        "\n",
        "      prediction=random_forest_regressor.predict([[ T,TM,Tm,SLP,H,VV,V,Vm]])\n",
        "      print(prediction)\n",
        "      return prediction\n",
        "\n",
        "\n",
        "\n",
        "\n",
        "    if city=='New Delhi':\n",
        "      pickle_in = open(\"random_forest_regression_model_del.pkl\",\"rb\")\n",
        "      random_forest_regressor=pickle.load(pickle_in)\n",
        "\n",
        "      prediction=random_forest_regressor.predict([[ T,TM,Tm,SLP,H,VV,V,Vm]])\n",
        "      print(prediction)\n",
        "      return prediction\n",
        "\n",
        "\n",
        "\n",
        "    if city=='Vishakapatnam':\n",
        "      pickle_in = open(\"random_forest_regression_model_Vizag.pkl\",\"rb\")\n",
        "      random_forest_regressor=pickle.load(pickle_in)\n",
        "\n",
        "      prediction=random_forest_regressor.predict([[ T,TM,Tm,SLP,H,VV,V,Vm]])\n",
        "      print(prediction)\n",
        "      return prediction\n",
        "\n",
        "\n",
        "    \n",
        "\n",
        "\n",
        "def main():\n",
        "    st.title(\"AQI prediction of Indian Cities\")\n",
        "    html_temp = '''\n",
        "    <style>\n",
        "    body {\n",
        "    background-image: url(\"https://images.unsplash.com/photo-1542281286-9e0a16bb7366\");\n",
        "    background-size: cover;\n",
        "    }\n",
        "    </style>\n",
        "    '''\n",
        "    \n",
        "    st.markdown(html_temp,unsafe_allow_html=True)\n",
        "    T = st.text_input(\"Average_Temperature \",\"Type Here\")\n",
        "    TM = st.text_input(\"Maximum_Temperature \",\"Type Here\")\n",
        "    Tm = st.text_input(\"Minimum_Temperature \",\"Type Here\")\n",
        "    SLP = st.text_input(\"Atm_pressure_at_sea_level \",\"Type Here\")\n",
        "    H = st.text_input(\"Average_relative_Humidity \",\"Type Here\")\n",
        "    VV = st.text_input(\"Average_visibility \",\"Type Here\")\n",
        "    V = st.text_input(\"Average_wind_speed \",\"Type Here\")\n",
        "    Vm = st.text_input(\"Maximum sustained wind speed \",\"Type Here\")\n",
        "    city=st.selectbox('select a City',('Banglore','Chennai','Goa','Hyderabad','Mumbai','New Delhi','Vishakapatnam'))\n",
        "    result=\"\"\n",
        "    if st.button(\"Predict\"):\n",
        "        result=float(predict_AQI(T,TM,Tm,SLP,H,VV,V,Vm,city))\n",
        "    st.success('The output is {}'.format(result))\n",
        "\n",
        "    if st.button(\"About\"):\n",
        "        st.text(\"project by VEENA SAI NIGAMA\")\n",
        "        st.text(\" 2021 \")\n",
        "\n",
        "if __name__=='__main__':\n",
        "    main()"
      ],
      "execution_count": 100,
      "outputs": []
    },
    {
      "cell_type": "code",
      "metadata": {
        "colab": {
          "base_uri": "https://localhost:8080/"
        },
        "id": "0ljJLL1W2JQR",
        "outputId": "b5aa6313-080c-49fb-e35c-80f61a5a53b8"
      },
      "source": [
        "%%writefile aqi_app.py\n",
        "import base64\n",
        "import numpy as np\n",
        "import pandas as pd\n",
        "import pickle\n",
        "import streamlit as st\n",
        "\n",
        "\n",
        "def welcome():\n",
        "    return \" welcome all\"\n",
        "\n",
        "\n",
        "\n",
        "def predict_AQI(T,TM,Tm,SLP,H,VV,V,Vm,city):\n",
        "    \n",
        "    if city=='Banglore':\n",
        "      pickle_in = open(\"random_forest_regression_model_bngl.pkl\",\"rb\")\n",
        "      random_forest_regressor=pickle.load(pickle_in)\n",
        "      \n",
        "      prediction=random_forest_regressor.predict([[ T,TM,Tm,SLP,H,VV,V,Vm]])\n",
        "      print(prediction)\n",
        "      return prediction\n",
        "\n",
        "\n",
        "\n",
        "    \n",
        "    if city=='Chennai':\n",
        "      pickle_in = open(\"random_forest_regression_model_chennai.pkl\",\"rb\")\n",
        "      random_forest_regressor=pickle.load(pickle_in)\n",
        "      \n",
        "      prediction=random_forest_regressor.predict([[ T,TM,Tm,SLP,H,VV,V,Vm]])\n",
        "      print(prediction)\n",
        "      return prediction\n",
        "\n",
        "\n",
        "    \n",
        "    if city=='Goa':\n",
        "      pickle_in = open(\"random_forest_regression_model_Goa.pkl\",\"rb\")\n",
        "      random_forest_regressor=pickle.load(pickle_in)\n",
        "      \n",
        "      prediction=random_forest_regressor.predict([[ T,TM,Tm,SLP,H,VV,V,Vm]])\n",
        "      print(prediction)\n",
        "      return prediction\n",
        "\n",
        "\n",
        "     \n",
        "    if city=='Hyderabad':\n",
        "      pickle_in = open(\"random_forest_regression_model_hyd.pkl\",\"rb\")\n",
        "      random_forest_regressor=pickle.load(pickle_in)\n",
        "\n",
        "      prediction=random_forest_regressor.predict([[ T,TM,Tm,SLP,H,VV,V,Vm]])\n",
        "      print(prediction)\n",
        "      return prediction\n",
        "\n",
        "\n",
        "\n",
        "    if city=='Mumbai':\n",
        "      pickle_in = open(\"random_forest_regression_model_mumbai.pkl\",\"rb\")\n",
        "      random_forest_regressor=pickle.load(pickle_in)  \n",
        "\n",
        "      prediction=random_forest_regressor.predict([[ T,TM,Tm,SLP,H,VV,V,Vm]])\n",
        "      print(prediction)\n",
        "      return prediction\n",
        "\n",
        "\n",
        "\n",
        "\n",
        "    if city=='New Delhi':\n",
        "      pickle_in = open(\"random_forest_regression_model_del.pkl\",\"rb\")\n",
        "      random_forest_regressor=pickle.load(pickle_in)\n",
        "\n",
        "      prediction=random_forest_regressor.predict([[ T,TM,Tm,SLP,H,VV,V,Vm]])\n",
        "      print(prediction)\n",
        "      return prediction\n",
        "\n",
        "\n",
        "\n",
        "    if city=='Vishakapatnam':\n",
        "      pickle_in = open(\"random_forest_regression_model_Vizag.pkl\",\"rb\")\n",
        "      random_forest_regressor=pickle.load(pickle_in)\n",
        "\n",
        "      prediction=random_forest_regressor.predict([[ T,TM,Tm,SLP,H,VV,V,Vm]])\n",
        "      print(prediction)\n",
        "      return prediction\n",
        "\n",
        "\n",
        "\n",
        "\n",
        "def main():\n",
        "    st.title(\"AQI prediction of Indian Cities\")\n",
        "    html_temp = '''\n",
        "    <style>\n",
        "    body {\n",
        "    background-image: url(\"https://media.nationalgeographic.org/assets/photos/000/282/28259.jpg\");\n",
        "    background-size: cover;\n",
        "    }\n",
        "    </style>\n",
        "    '''\n",
        "    \n",
        "    st.markdown(html_temp,unsafe_allow_html=True)\n",
        "    T = st.text_input(\"Average_Temperature \",\"Type Here\")\n",
        "    TM = st.text_input(\"Maximum_Temperature \",\"Type Here\")\n",
        "    Tm = st.text_input(\"Minimum_Temperature \",\"Type Here\")\n",
        "    SLP = st.text_input(\"Atm_pressure_at_sea_level \",\"Type Here\")\n",
        "    H = st.text_input(\"Average_relative_Humidity \",\"Type Here\")\n",
        "    VV = st.text_input(\"Average_visibility \",\"Type Here\")\n",
        "    V = st.text_input(\"Average_wind_speed \",\"Type Here\")\n",
        "    Vm = st.text_input(\"Maximum sustained wind speed \",\"Type Here\")\n",
        "    city=st.selectbox('select a City',('Banglore','Chennai','Goa','Hyderabad','Mumbai','New Delhi','Vishakapatnam'))\n",
        "    result=\"\"\n",
        "    if st.button(\"Predict\"):\n",
        "        result=predict_AQI(T,TM,Tm,SLP,H,VV,V,Vm,city)\n",
        "    st.success('The output is {}'.format(result))\n",
        "    \n",
        "    if st.button(\"About\"):\n",
        "        st.text(\"project by VEENA SAI NIGAMA\")\n",
        "        st.text(\" 2021 \")\n",
        "\n",
        "if __name__=='__main__':\n",
        "    main()"
      ],
      "execution_count": 109,
      "outputs": [
        {
          "output_type": "stream",
          "text": [
            "Writing aqi_app.py\n"
          ],
          "name": "stdout"
        }
      ]
    },
    {
      "cell_type": "code",
      "metadata": {
        "colab": {
          "base_uri": "https://localhost:8080/"
        },
        "id": "9Xk4Pklh5dss",
        "outputId": "368b5407-1ab4-4625-d5db-72ea88804180"
      },
      "source": [
        "!wget https://github.com/NigamaVeena/AQI-prediction-and-deployment/blob/main/aqi_app.py"
      ],
      "execution_count": 110,
      "outputs": [
        {
          "output_type": "stream",
          "text": [
            "--2021-04-27 12:42:04--  https://github.com/NigamaVeena/AQI-prediction-and-deployment/blob/main/aqi_app.py\n",
            "Resolving github.com (github.com)... 140.82.113.3\n",
            "Connecting to github.com (github.com)|140.82.113.3|:443... connected.\n",
            "HTTP request sent, awaiting response... 200 OK\n",
            "Length: unspecified [text/html]\n",
            "Saving to: ‘aqi_app.py.1’\n",
            "\n",
            "aqi_app.py.1            [ <=>                ] 145.96K   796KB/s    in 0.2s    \n",
            "\n",
            "2021-04-27 12:42:05 (796 KB/s) - ‘aqi_app.py.1’ saved [149460]\n",
            "\n"
          ],
          "name": "stdout"
        }
      ]
    },
    {
      "cell_type": "code",
      "metadata": {
        "colab": {
          "base_uri": "https://localhost:8080/"
        },
        "id": "M6epqRMf3a96",
        "outputId": "d583b899-b1c1-4fc7-b7f6-678d950ca2ea"
      },
      "source": [
        "!wget https://bin.equinox.io/c/4VmDzA7iaHb/ngrok-stable-linux-amd64.zip"
      ],
      "execution_count": 111,
      "outputs": [
        {
          "output_type": "stream",
          "text": [
            "--2021-04-27 12:42:13--  https://bin.equinox.io/c/4VmDzA7iaHb/ngrok-stable-linux-amd64.zip\n",
            "Resolving bin.equinox.io (bin.equinox.io)... 35.174.24.146, 52.202.162.45, 50.19.119.19, ...\n",
            "Connecting to bin.equinox.io (bin.equinox.io)|35.174.24.146|:443... connected.\n",
            "HTTP request sent, awaiting response... 200 OK\n",
            "Length: 13828408 (13M) [application/octet-stream]\n",
            "Saving to: ‘ngrok-stable-linux-amd64.zip’\n",
            "\n",
            "ngrok-stable-linux- 100%[===================>]  13.19M  19.2MB/s    in 0.7s    \n",
            "\n",
            "2021-04-27 12:42:14 (19.2 MB/s) - ‘ngrok-stable-linux-amd64.zip’ saved [13828408/13828408]\n",
            "\n"
          ],
          "name": "stdout"
        }
      ]
    },
    {
      "cell_type": "code",
      "metadata": {
        "colab": {
          "base_uri": "https://localhost:8080/"
        },
        "id": "-t-Yy1Wc32pg",
        "outputId": "e615ed46-bfef-4214-e035-7190d20db2e8"
      },
      "source": [
        "!unzip ngrok-stable-linux-amd64.zip"
      ],
      "execution_count": 112,
      "outputs": [
        {
          "output_type": "stream",
          "text": [
            "Archive:  ngrok-stable-linux-amd64.zip\n",
            "  inflating: ngrok                   \n"
          ],
          "name": "stdout"
        }
      ]
    },
    {
      "cell_type": "code",
      "metadata": {
        "id": "kHa-Rd9m38pK"
      },
      "source": [
        "get_ipython().system_raw('./ngrok http 8501 &')"
      ],
      "execution_count": 113,
      "outputs": []
    },
    {
      "cell_type": "code",
      "metadata": {
        "colab": {
          "base_uri": "https://localhost:8080/"
        },
        "id": "9MSQ1cGa3_Nj",
        "outputId": "3e4f790c-92a1-4a1e-a647-d21e7ef938c6"
      },
      "source": [
        "!curl -s http://localhost:4040/api/tunnels | python3 -c \\\n",
        "    'import sys, json; print(\"Execute the next cell and the go to the following URL: \" +json.load(sys.stdin)[\"tunnels\"][0][\"public_url\"])'"
      ],
      "execution_count": 114,
      "outputs": [
        {
          "output_type": "stream",
          "text": [
            "Execute the next cell and the go to the following URL: https://942fda8541d0.ngrok.io\n"
          ],
          "name": "stdout"
        }
      ]
    },
    {
      "cell_type": "code",
      "metadata": {
        "colab": {
          "base_uri": "https://localhost:8080/"
        },
        "id": "b7Td31TX4B72",
        "outputId": "c10eaab3-22af-4886-eb5d-9f993a0535fe"
      },
      "source": [
        "!streamlit run /content/aqi_app.py"
      ],
      "execution_count": null,
      "outputs": [
        {
          "output_type": "stream",
          "text": [
            "\u001b[0m\n",
            "\u001b[34m\u001b[1m  You can now view your Streamlit app in your browser.\u001b[0m\n",
            "\u001b[0m\n",
            "\u001b[34m  Network URL: \u001b[0m\u001b[1mhttp://172.28.0.2:8501\u001b[0m\n",
            "\u001b[34m  External URL: \u001b[0m\u001b[1mhttp://34.125.47.50:8501\u001b[0m\n",
            "\u001b[0m\n",
            "[104.01301323]\n",
            "[145.21904327]\n",
            "[145.21904327]\n",
            "[104.01301323]\n",
            "[104.01301323]\n",
            "[85.19846849]\n",
            "[111.02070617]\n",
            "[111.02070617]\n",
            "[104.01301323]\n",
            "[85.40086797]\n",
            "[145.21904327]\n",
            "[111.02070617]\n",
            "[145.21904327]\n",
            "[145.21904327]\n",
            "[85.19846849]\n",
            "[111.02070617]\n",
            "[104.01301323]\n",
            "[85.40086797]\n",
            "[85.19846849]\n",
            "[104.01301323]\n",
            "[145.21904327]\n",
            "[111.02070617]\n",
            "[104.01301323]\n",
            "[85.40086797]\n",
            "[145.21904327]\n"
          ],
          "name": "stdout"
        }
      ]
    },
    {
      "cell_type": "code",
      "metadata": {
        "id": "A21mCnjX4Gx-"
      },
      "source": [
        ""
      ],
      "execution_count": null,
      "outputs": []
    }
  ]
}